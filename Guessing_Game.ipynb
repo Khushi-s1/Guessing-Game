{
  "nbformat": 4,
  "nbformat_minor": 0,
  "metadata": {
    "colab": {
      "provenance": []
    },
    "kernelspec": {
      "name": "python3",
      "display_name": "Python 3"
    },
    "language_info": {
      "name": "python"
    }
  },
  "cells": [
    {
      "cell_type": "markdown",
      "source": [
        "Level-2 Task-1 Guessing Game\n",
        "\n",
        "Write a Python program that generates a\n",
        "random number between 1 and 100. The\n",
        "user should then try to guess the number.\n",
        "The program should provide hints such as\n",
        "\"too high\" or \"too low\" until the correct\n",
        "number is guessed."
      ],
      "metadata": {
        "id": "EIWXJDsuNcXI"
      }
    },
    {
      "cell_type": "code",
      "execution_count": 3,
      "metadata": {
        "colab": {
          "base_uri": "https://localhost:8080/"
        },
        "id": "mCqBOCJVMVGi",
        "outputId": "2cb1461c-e159-4f19-f145-2fae000266d3"
      },
      "outputs": [
        {
          "output_type": "stream",
          "name": "stdout",
          "text": [
            "Guess the number (between 1 and 100): 50\n",
            "Too high! Try guessing a lower number.\n",
            "Guess the number (between 1 and 100): 30\n",
            "Too high! Try guessing a lower number.\n",
            "Guess the number (between 1 and 100): 20\n",
            "Too low! Try guessing a higher number.\n",
            "Guess the number (between 1 and 100): 25\n",
            "Too low! Try guessing a higher number.\n",
            "Guess the number (between 1 and 100): 27\n",
            "Congratulations! You guessed the number 27 correctly!\n",
            "It took you 5 attempts to guess the correct number.\n"
          ]
        }
      ],
      "source": [
        "import random\n",
        "\n",
        "def guess_number():\n",
        "    secret_number = random.randint(1, 100)\n",
        "\n",
        "    attempts = 0\n",
        "\n",
        "    while True:\n",
        "        guess = int(input(\"Guess the number (between 1 and 100): \"))\n",
        "        attempts += 1\n",
        "\n",
        "        if guess < secret_number:\n",
        "            print(\"Too low! Try guessing a higher number.\")\n",
        "        elif guess > secret_number:\n",
        "            print(\"Too high! Try guessing a lower number.\")\n",
        "        else:\n",
        "            print(f\"Congratulations! You guessed the number {secret_number} correctly!\")\n",
        "            print(f\"It took you {attempts} attempts to guess the correct number.\")\n",
        "            break\n",
        "\n",
        "guess_number()\n"
      ]
    }
  ]
}